{
 "cells": [
  {
   "cell_type": "code",
   "execution_count": null,
   "metadata": {},
   "outputs": [
    {
     "name": "stdout",
     "output_type": "stream",
     "text": [
      "Collecting data for class bosan\n"
     ]
    }
   ],
   "source": [
    "import os\n",
    "import cv2\n",
    "import time\n",
    "\n",
    "DATA_DIR = 'data'\n",
    "if not os.path.exists(DATA_DIR):\n",
    "    os.makedirs(DATA_DIR)\n",
    "\n",
    "# Definisikan huruf yang akan digunakan untuk folder\n",
    "letters = [\"bosan\", \"tertarik\", \"senang\", \"kesusahan\", \"fokus\"]\n",
    "number_of_classes = len(letters)\n",
    "dataset_size = 1000\n",
    "\n",
    "cap = cv2.VideoCapture(0)\n",
    "done = False  # Inisialisasi variabel done di awal\n",
    "\n",
    "for j in range(number_of_classes):\n",
    "    if done:  # Cek jika done sudah True untuk keluar dari loop luar\n",
    "        break\n",
    "\n",
    "    folder_name = letters[j]\n",
    "    folder_path = os.path.join(DATA_DIR, folder_name)\n",
    "    if not os.path.exists(folder_path):\n",
    "        os.makedirs(folder_path)\n",
    "\n",
    "    print('Collecting data for class {}'.format(folder_name))\n",
    "\n",
    "    # Tunggu sampai pengguna siap\n",
    "    while True:\n",
    "        ret, frame = cap.read()\n",
    "        cv2.putText(frame, f'Sudah siap berpose dengan emosi {folder_name}?', (10, 30), cv2.FONT_HERSHEY_SIMPLEX, 0.8, (0, 0, 255), 3, cv2.LINE_AA)\n",
    "        cv2.putText(frame, f'Tekan \"Q\" untuk memulai', (480, 470), cv2.FONT_HERSHEY_SIMPLEX, 1, (0, 0, 255), 3, cv2.LINE_AA)\n",
    "        cv2.imshow('frame', frame)\n",
    "        if cv2.waitKey(25) & 0xFF == ord('q'):\n",
    "            break\n",
    "\n",
    "    # Hitungan mundur 3 detik\n",
    "    for i in range(3, 0, -1):\n",
    "        ret, frame = cap.read()\n",
    "        cv2.putText(frame, f'Starting in {i}...', (10, 30), cv2.FONT_HERSHEY_SIMPLEX, 1, (0, 0, 255), 3, cv2.LINE_AA)\n",
    "        cv2.imshow('frame', frame)\n",
    "        cv2.waitKey(1000)\n",
    "\n",
    "    # Mulai pengumpulan data\n",
    "    counter = 0\n",
    "    while counter < dataset_size:\n",
    "        ret, frame = cap.read()\n",
    "        \n",
    "        # Buat salinan frame tanpa teks untuk disimpan\n",
    "        frame_no_text = frame.copy()\n",
    "        \n",
    "        # Tambahkan teks pada frame yang ditampilkan di GUI\n",
    "        cv2.putText(frame, 'Kalau ingin keluar dan menghentikan tekan \"q\" !', (10, 25), cv2.FONT_HERSHEY_SIMPLEX, 0.8, (0, 0, 255), 3, cv2.LINE_AA)\n",
    "        cv2.putText(frame, f\"Berposelah | Emosi {folder_name}\", (10, 470), cv2.FONT_HERSHEY_SIMPLEX, 0.8, (0, 0, 255), 3, cv2.LINE_AA)\n",
    "        cv2.putText(frame, f\"Data -> {counter}\", (485, 470), cv2.FONT_HERSHEY_SIMPLEX, 0.8, (0, 0, 255), 3, cv2.LINE_AA)\n",
    "        \n",
    "        # Tampilkan frame dengan teks di GUI\n",
    "        cv2.imshow('frame', frame)\n",
    "\n",
    "        if cv2.waitKey(25) & 0xFF == ord('q'):\n",
    "            done = True\n",
    "            break\n",
    "        \n",
    "        # Simpan frame tanpa teks\n",
    "        cv2.imwrite(os.path.join(folder_path, '{}.jpg'.format(counter)), frame_no_text)\n",
    "        counter += 1\n",
    "\n",
    "cap.release()\n",
    "cv2.destroyAllWindows()\n"
   ]
  }
 ],
 "metadata": {
  "kernelspec": {
   "display_name": "Python 3",
   "language": "python",
   "name": "python3"
  },
  "language_info": {
   "codemirror_mode": {
    "name": "ipython",
    "version": 3
   },
   "file_extension": ".py",
   "mimetype": "text/x-python",
   "name": "python",
   "nbconvert_exporter": "python",
   "pygments_lexer": "ipython3",
   "version": "3.10.6"
  }
 },
 "nbformat": 4,
 "nbformat_minor": 2
}
