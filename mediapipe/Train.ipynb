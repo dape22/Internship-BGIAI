{
 "cells": [
  {
   "cell_type": "code",
   "execution_count": 2,
   "metadata": {},
   "outputs": [
    {
     "name": "stdout",
     "output_type": "stream",
     "text": [
      "10723\n",
      "10723\n",
      "13384\n",
      "13384\n"
     ]
    }
   ],
   "source": [
    "import pickle\n",
    "\n",
    "data_dict = pickle.load(open('data_satu_tangan.pickle', 'rb'))\n",
    "data = data_dict['data']\n",
    "labels = data_dict['labels']\n",
    "\n",
    "data_dict1 = pickle.load(open('data_dua_tangan.pickle', 'rb'))\n",
    "data1 = data_dict1['data']\n",
    "labels1 = data_dict1['labels']\n",
    "\n",
    "print(len(data))\n",
    "print(len(labels))\n",
    "\n",
    "print(len(data1))\n",
    "print(len(labels1))"
   ]
  },
  {
   "cell_type": "markdown",
   "metadata": {},
   "source": [
    "## Data satu tangan inkonsisten"
   ]
  },
  {
   "cell_type": "code",
   "execution_count": 3,
   "metadata": {},
   "outputs": [
    {
     "name": "stdout",
     "output_type": "stream",
     "text": [
      "data inkonsisten berjumlah 171\n"
     ]
    }
   ],
   "source": [
    "count = 0\n",
    "for i in(range(len(data))):\n",
    "  if len(data[i]) != 42:\n",
    "    count += 1\n",
    "print(f'data inkonsisten berjumlah {count}')"
   ]
  },
  {
   "cell_type": "code",
   "execution_count": 4,
   "metadata": {},
   "outputs": [
    {
     "name": "stdout",
     "output_type": "stream",
     "text": [
      "data inkonsisten berjumlah 0\n"
     ]
    }
   ],
   "source": [
    "count = 0\n",
    "for i in(range(len(data1))):\n",
    "  if len(data1[i]) != 84:\n",
    "    count += 1\n",
    "print(f'data inkonsisten berjumlah {count}')"
   ]
  },
  {
   "cell_type": "code",
   "execution_count": 5,
   "metadata": {},
   "outputs": [
    {
     "name": "stdout",
     "output_type": "stream",
     "text": [
      "10552\n",
      "10552\n",
      "13384\n",
      "13384\n"
     ]
    }
   ],
   "source": [
    "import numpy as np\n",
    "filter_data = []\n",
    "filter_label = []\n",
    "for i in range(len(data)):\n",
    "  if len(data[i]) == 42:\n",
    "    filter_data.append(data[i])\n",
    "    filter_label.append(labels[i])\n",
    "    # print(labels1[i])\n",
    "    # print(f'data ke- {i} berhasil ditambahkan')\n",
    "\n",
    "print(len(filter_label))\n",
    "print(len(filter_data))\n",
    "\n",
    "data = np.asarray(filter_data)\n",
    "labels = np.asarray(filter_label)\n",
    "\n",
    "\n",
    "\n",
    "print(len(data1))\n",
    "print(len(labels1))"
   ]
  },
  {
   "cell_type": "code",
   "execution_count": 6,
   "metadata": {},
   "outputs": [
    {
     "name": "stdout",
     "output_type": "stream",
     "text": [
      "Package           Version\n",
      "----------------- -----------\n",
      "asttokens         2.4.1\n",
      "colorama          0.4.6\n",
      "comm              0.2.2\n",
      "debugpy           1.8.6\n",
      "decorator         5.1.1\n",
      "executing         2.1.0\n",
      "ipykernel         6.29.5\n",
      "ipython           8.27.0\n",
      "jedi              0.19.1\n",
      "joblib            1.4.2\n",
      "jupyter_client    8.6.3\n",
      "jupyter_core      5.7.2\n",
      "matplotlib-inline 0.1.7\n",
      "nest-asyncio      1.6.0\n",
      "numpy             1.26.4\n",
      "packaging         24.1\n",
      "parso             0.8.4\n",
      "pip               24.2\n",
      "platformdirs      4.3.6\n",
      "prompt_toolkit    3.0.48\n",
      "psutil            6.0.0\n",
      "pure_eval         0.2.3\n",
      "Pygments          2.18.0\n",
      "python-dateutil   2.9.0.post0\n",
      "pywin32           306\n",
      "pyzmq             26.2.0\n",
      "scikit-learn      1.3.0\n",
      "scipy             1.14.1\n",
      "six               1.16.0\n",
      "stack-data        0.6.3\n",
      "threadpoolctl     3.5.0\n",
      "tornado           6.4.1\n",
      "traitlets         5.14.3\n",
      "typing_extensions 4.12.2\n",
      "wcwidth           0.2.13\n",
      "Note: you may need to restart the kernel to use updated packages.\n"
     ]
    }
   ],
   "source": [
    "pip list"
   ]
  },
  {
   "cell_type": "code",
   "execution_count": null,
   "metadata": {},
   "outputs": [],
   "source": [
    "pip install numpy==1.26.4"
   ]
  },
  {
   "cell_type": "code",
   "execution_count": 1,
   "metadata": {},
   "outputs": [
    {
     "name": "stdout",
     "output_type": "stream",
     "text": [
      "1.3.0\n"
     ]
    }
   ],
   "source": [
    "import sklearn as sk\n",
    "print(sk.__version__)\n"
   ]
  },
  {
   "cell_type": "code",
   "execution_count": 7,
   "metadata": {},
   "outputs": [],
   "source": [
    "import numpy as np\n",
    "data1 = np.asarray(data1)\n",
    "labels1 = np.asarray(labels1)"
   ]
  },
  {
   "cell_type": "code",
   "execution_count": 8,
   "metadata": {},
   "outputs": [
    {
     "name": "stdout",
     "output_type": "stream",
     "text": [
      "              precision    recall  f1-score   support\n",
      "\n",
      "           C       1.00      1.00      1.00       195\n",
      "           I       1.00      1.00      1.00       198\n",
      "           J       1.00      1.00      1.00       196\n",
      "           L       1.00      1.00      1.00       181\n",
      "           M       1.00      1.00      1.00       192\n",
      "           N       1.00      1.00      1.00       196\n",
      "           O       1.00      1.00      1.00       194\n",
      "           R       1.00      1.00      1.00       192\n",
      "           U       1.00      1.00      1.00       176\n",
      "           V       0.99      1.00      1.00       193\n",
      "           W       1.00      0.99      1.00       198\n",
      "\n",
      "    accuracy                           1.00      2111\n",
      "   macro avg       1.00      1.00      1.00      2111\n",
      "weighted avg       1.00      1.00      1.00      2111\n",
      "\n"
     ]
    }
   ],
   "source": [
    "import pickle\n",
    "from sklearn.ensemble import RandomForestClassifier\n",
    "from sklearn.model_selection import train_test_split\n",
    "from sklearn.metrics import classification_report\n",
    "import numpy as np\n",
    "\n",
    "# Split data into train and test sets\n",
    "x_train, x_test, y_train, y_test = train_test_split(data, labels, test_size=0.2,random_state = 123, shuffle=True, stratify=labels)\n",
    "\n",
    "# Initialize and train the model\n",
    "model = RandomForestClassifier()\n",
    "model.fit(x_train, y_train)\n",
    "\n",
    "# Make predictions on the test set\n",
    "y_predict = model.predict(x_test)\n",
    "\n",
    "# Display classification report\n",
    "print(classification_report(y_test, y_predict))\n"
   ]
  },
  {
   "cell_type": "code",
   "execution_count": 9,
   "metadata": {},
   "outputs": [
    {
     "name": "stdout",
     "output_type": "stream",
     "text": [
      "              precision    recall  f1-score   support\n",
      "\n",
      "           A       0.97      0.99      0.98       192\n",
      "           B       1.00      1.00      1.00       211\n",
      "           D       0.99      0.97      0.98       211\n",
      "           E       1.00      1.00      1.00       202\n",
      "           F       1.00      1.00      1.00       189\n",
      "           G       1.00      1.00      1.00       205\n",
      "           H       1.00      1.00      1.00       179\n",
      "           I       1.00      1.00      1.00       175\n",
      "           K       1.00      1.00      1.00       129\n",
      "           P       1.00      1.00      1.00       220\n",
      "           S       1.00      1.00      1.00       205\n",
      "           T       1.00      1.00      1.00       172\n",
      "           Y       1.00      1.00      1.00       197\n",
      "           Z       1.00      1.00      1.00       190\n",
      "\n",
      "    accuracy                           1.00      2677\n",
      "   macro avg       1.00      1.00      1.00      2677\n",
      "weighted avg       1.00      1.00      1.00      2677\n",
      "\n"
     ]
    }
   ],
   "source": [
    "import pickle\n",
    "from sklearn.ensemble import RandomForestClassifier\n",
    "from sklearn.model_selection import train_test_split\n",
    "from sklearn.metrics import classification_report\n",
    "import numpy as np\n",
    "\n",
    "# Split data into train and test sets\n",
    "x_train, x_test, y_train, y_test = train_test_split(data1, labels1, test_size=0.2,random_state = 123, shuffle=True)\n",
    "\n",
    "# Initialize and train the model\n",
    "model1 = RandomForestClassifier()\n",
    "model1.fit(x_train, y_train)\n",
    "\n",
    "# Make predictions on the test set\n",
    "y_predict = model1.predict(x_test)\n",
    "\n",
    "# Display classification report\n",
    "print(classification_report(y_test, y_predict))\n"
   ]
  },
  {
   "cell_type": "code",
   "execution_count": 10,
   "metadata": {},
   "outputs": [
    {
     "data": {
      "text/plain": [
       "['RF_satu_tangan.pkl']"
      ]
     },
     "execution_count": 10,
     "metadata": {},
     "output_type": "execute_result"
    }
   ],
   "source": [
    "import joblib\n",
    "\n",
    "joblib.dump(model, 'RF_satu_tangan.pkl')"
   ]
  },
  {
   "cell_type": "code",
   "execution_count": 11,
   "metadata": {},
   "outputs": [
    {
     "data": {
      "text/plain": [
       "['RF_dua_tangan.pkl']"
      ]
     },
     "execution_count": 11,
     "metadata": {},
     "output_type": "execute_result"
    }
   ],
   "source": [
    "import joblib\n",
    "\n",
    "joblib.dump(model1, 'RF_dua_tangan.pkl')"
   ]
  },
  {
   "cell_type": "code",
   "execution_count": null,
   "metadata": {},
   "outputs": [],
   "source": []
  }
 ],
 "metadata": {
  "kernelspec": {
   "display_name": ".venv",
   "language": "python",
   "name": "python3"
  },
  "language_info": {
   "codemirror_mode": {
    "name": "ipython",
    "version": 3
   },
   "file_extension": ".py",
   "mimetype": "text/x-python",
   "name": "python",
   "nbconvert_exporter": "python",
   "pygments_lexer": "ipython3",
   "version": "3.11.2"
  }
 },
 "nbformat": 4,
 "nbformat_minor": 2
}
