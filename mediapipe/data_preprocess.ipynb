{
 "cells": [
  {
   "cell_type": "code",
   "execution_count": 1,
   "metadata": {},
   "outputs": [
    {
     "name": "stdout",
     "output_type": "stream",
     "text": [
      "Requirement already satisfied: mediapipe in c:\\users\\dhani\\appdata\\local\\programs\\python\\python310\\lib\\site-packages (0.9.1.0)\n",
      "Requirement already satisfied: absl-py in c:\\users\\dhani\\appdata\\local\\programs\\python\\python310\\lib\\site-packages (from mediapipe) (1.2.0)\n",
      "Requirement already satisfied: attrs>=19.1.0 in c:\\users\\dhani\\appdata\\local\\programs\\python\\python310\\lib\\site-packages (from mediapipe) (23.1.0)\n",
      "Requirement already satisfied: flatbuffers>=2.0 in c:\\users\\dhani\\appdata\\local\\programs\\python\\python310\\lib\\site-packages (from mediapipe) (22.9.24)\n",
      "Requirement already satisfied: matplotlib in c:\\users\\dhani\\appdata\\local\\programs\\python\\python310\\lib\\site-packages (from mediapipe) (3.6.0)\n",
      "Requirement already satisfied: numpy in c:\\users\\dhani\\appdata\\local\\programs\\python\\python310\\lib\\site-packages (from mediapipe) (1.23.3)\n",
      "Requirement already satisfied: opencv-contrib-python in c:\\users\\dhani\\appdata\\local\\programs\\python\\python310\\lib\\site-packages (from mediapipe) (4.10.0.84)\n",
      "Requirement already satisfied: protobuf<4,>=3.11 in c:\\users\\dhani\\appdata\\local\\programs\\python\\python310\\lib\\site-packages (from mediapipe) (3.20.3)\n",
      "Requirement already satisfied: contourpy>=1.0.1 in c:\\users\\dhani\\appdata\\local\\programs\\python\\python310\\lib\\site-packages (from matplotlib->mediapipe) (1.0.5)\n",
      "Requirement already satisfied: cycler>=0.10 in c:\\users\\dhani\\appdata\\local\\programs\\python\\python310\\lib\\site-packages (from matplotlib->mediapipe) (0.11.0)\n",
      "Requirement already satisfied: fonttools>=4.22.0 in c:\\users\\dhani\\appdata\\local\\programs\\python\\python310\\lib\\site-packages (from matplotlib->mediapipe) (4.38.0)\n",
      "Requirement already satisfied: kiwisolver>=1.0.1 in c:\\users\\dhani\\appdata\\local\\programs\\python\\python310\\lib\\site-packages (from matplotlib->mediapipe) (1.4.4)\n",
      "Requirement already satisfied: packaging>=20.0 in c:\\users\\dhani\\appdata\\local\\programs\\python\\python310\\lib\\site-packages (from matplotlib->mediapipe) (21.3)\n",
      "Requirement already satisfied: pillow>=6.2.0 in c:\\users\\dhani\\appdata\\local\\programs\\python\\python310\\lib\\site-packages (from matplotlib->mediapipe) (9.2.0)\n",
      "Requirement already satisfied: pyparsing>=2.2.1 in c:\\users\\dhani\\appdata\\local\\programs\\python\\python310\\lib\\site-packages (from matplotlib->mediapipe) (3.0.9)\n",
      "Requirement already satisfied: python-dateutil>=2.7 in c:\\users\\dhani\\appdata\\roaming\\python\\python310\\site-packages (from matplotlib->mediapipe) (2.8.2)\n",
      "Requirement already satisfied: six>=1.5 in c:\\users\\dhani\\appdata\\local\\programs\\python\\python310\\lib\\site-packages (from python-dateutil>=2.7->matplotlib->mediapipe) (1.16.0)\n",
      "Note: you may need to restart the kernel to use updated packages.\n"
     ]
    },
    {
     "name": "stderr",
     "output_type": "stream",
     "text": [
      "WARNING: Ignoring invalid distribution -rotobuf (c:\\users\\dhani\\appdata\\local\\programs\\python\\python310\\lib\\site-packages)\n",
      "WARNING: Ignoring invalid distribution -rotobuf (c:\\users\\dhani\\appdata\\local\\programs\\python\\python310\\lib\\site-packages)\n",
      "\n",
      "[notice] A new release of pip is available: 24.1 -> 24.1.1\n",
      "[notice] To update, run: python.exe -m pip install --upgrade pip\n"
     ]
    }
   ],
   "source": [
    "pip install mediapipe"
   ]
  },
  {
   "cell_type": "code",
   "execution_count": 4,
   "metadata": {},
   "outputs": [
    {
     "name": "stdout",
     "output_type": "stream",
     "text": [
      "Requirement already satisfied: opencv-python in c:\\users\\dhani\\appdata\\local\\programs\\python\\python310\\lib\\site-packages (4.6.0.66)\n",
      "Collecting opencv-python\n",
      "  Downloading opencv_python-4.10.0.84-cp37-abi3-win_amd64.whl.metadata (20 kB)\n",
      "Requirement already satisfied: matplotlib in c:\\users\\dhani\\appdata\\local\\programs\\python\\python310\\lib\\site-packages (3.6.0)\n",
      "Collecting matplotlib\n",
      "  Downloading matplotlib-3.9.0-cp310-cp310-win_amd64.whl.metadata (11 kB)\n",
      "Requirement already satisfied: numpy>=1.21.2 in c:\\users\\dhani\\appdata\\local\\programs\\python\\python310\\lib\\site-packages (from opencv-python) (1.23.3)\n",
      "Requirement already satisfied: contourpy>=1.0.1 in c:\\users\\dhani\\appdata\\local\\programs\\python\\python310\\lib\\site-packages (from matplotlib) (1.0.5)\n",
      "Requirement already satisfied: cycler>=0.10 in c:\\users\\dhani\\appdata\\local\\programs\\python\\python310\\lib\\site-packages (from matplotlib) (0.11.0)\n",
      "Requirement already satisfied: fonttools>=4.22.0 in c:\\users\\dhani\\appdata\\local\\programs\\python\\python310\\lib\\site-packages (from matplotlib) (4.38.0)\n",
      "Requirement already satisfied: kiwisolver>=1.3.1 in c:\\users\\dhani\\appdata\\local\\programs\\python\\python310\\lib\\site-packages (from matplotlib) (1.4.4)\n",
      "Requirement already satisfied: packaging>=20.0 in c:\\users\\dhani\\appdata\\local\\programs\\python\\python310\\lib\\site-packages (from matplotlib) (21.3)\n",
      "Requirement already satisfied: pillow>=8 in c:\\users\\dhani\\appdata\\local\\programs\\python\\python310\\lib\\site-packages (from matplotlib) (9.2.0)\n",
      "Requirement already satisfied: pyparsing>=2.3.1 in c:\\users\\dhani\\appdata\\local\\programs\\python\\python310\\lib\\site-packages (from matplotlib) (3.0.9)\n",
      "Requirement already satisfied: python-dateutil>=2.7 in c:\\users\\dhani\\appdata\\roaming\\python\\python310\\site-packages (from matplotlib) (2.8.2)\n",
      "Requirement already satisfied: six>=1.5 in c:\\users\\dhani\\appdata\\local\\programs\\python\\python310\\lib\\site-packages (from python-dateutil>=2.7->matplotlib) (1.16.0)\n",
      "Downloading opencv_python-4.10.0.84-cp37-abi3-win_amd64.whl (38.8 MB)\n",
      "   ---------------------------------------- 38.8/38.8 MB 1.8 MB/s eta 0:00:00\n",
      "Downloading matplotlib-3.9.0-cp310-cp310-win_amd64.whl (8.0 MB)\n",
      "   ---------------------------------------- 8.0/8.0 MB 939.8 kB/s eta 0:00:00\n",
      "Installing collected packages: opencv-python, matplotlib\n",
      "  Attempting uninstall: opencv-python\n",
      "    Found existing installation: opencv-python 4.6.0.66\n",
      "    Uninstalling opencv-python-4.6.0.66:\n",
      "      Successfully uninstalled opencv-python-4.6.0.66\n",
      "  Attempting uninstall: matplotlib\n",
      "    Found existing installation: matplotlib 3.6.0\n",
      "    Uninstalling matplotlib-3.6.0:\n",
      "      Successfully uninstalled matplotlib-3.6.0\n",
      "Successfully installed matplotlib-3.9.0 opencv-python-4.10.0.84\n",
      "Note: you may need to restart the kernel to use updated packages.\n"
     ]
    },
    {
     "name": "stderr",
     "output_type": "stream",
     "text": [
      "WARNING: Ignoring invalid distribution -rotobuf (c:\\users\\dhani\\appdata\\local\\programs\\python\\python310\\lib\\site-packages)\n",
      "WARNING: Ignoring invalid distribution -rotobuf (c:\\users\\dhani\\appdata\\local\\programs\\python\\python310\\lib\\site-packages)\n",
      "  WARNING: Failed to remove contents in a temporary directory 'C:\\Users\\Dhani\\AppData\\Local\\Temp\\pip-uninstall-x9wzr3rj'.\n",
      "  You can safely remove it manually.\n",
      "  WARNING: Failed to remove contents in a temporary directory 'C:\\Users\\Dhani\\AppData\\Local\\Programs\\Python\\Python310\\Lib\\site-packages\\~atplotlib'.\n",
      "  You can safely remove it manually.\n",
      "\n",
      "[notice] A new release of pip is available: 24.1 -> 24.1.1\n",
      "[notice] To update, run: python.exe -m pip install --upgrade pip\n"
     ]
    }
   ],
   "source": [
    "pip install --upgrade opencv-python matplotlib\n"
   ]
  },
  {
   "cell_type": "code",
   "execution_count": null,
   "metadata": {},
   "outputs": [],
   "source": [
    "import os\n",
    "import pickle\n",
    "import mediapipe as mp\n",
    "import cv2\n",
    "import matplotlib.pyplot as plt\n",
    "\n",
    "dua_tangan = ['A', 'B', 'D', 'E', 'F', 'G', 'H', 'K', 'P', 'S', 'T', 'Y', 'Z']\n",
    "satu_tangan = ['C', 'I', 'J', 'L', 'M', 'N', 'O', 'R', 'U', 'V', 'W']\n",
    "\n",
    "mp_hands = mp.solutions.hands\n",
    "mp_drawing = mp.solutions.drawing_utils\n",
    "mp_drawing_styles = mp.solutions.drawing_styles\n",
    "\n",
    "hands = mp_hands.Hands(static_image_mode=True, min_detection_confidence=0.3)\n",
    "\n",
    "DATA_DIR = 'dataset'\n",
    "\n",
    "data_satu_tangan = []\n",
    "data_dua_tangan = []\n",
    "\n",
    "labels_satu_tangan = []\n",
    "labels_dua_tangan = []\n",
    "\n",
    "for dir_ in os.listdir(DATA_DIR):\n",
    "    if dir_ in dua_tangan:\n",
    "        tangan = 'dua_tangan'\n",
    "    elif dir_ in satu_tangan:\n",
    "        tangan = 'satu_tangan'\n",
    "    else:\n",
    "        continue\n",
    "\n",
    "    img_count = 0\n",
    "    for img_path in os.listdir(os.path.join(DATA_DIR, dir_)):\n",
    "        img_count += 1\n",
    "        data_aux = []\n",
    "        x_ = []\n",
    "        y_ = []\n",
    "\n",
    "        img = cv2.imread(os.path.join(DATA_DIR, dir_, img_path))\n",
    "        img_rgb = cv2.cvtColor(img, cv2.COLOR_BGR2RGB)\n",
    "        results = hands.process(img_rgb)\n",
    "\n",
    "        if results.multi_hand_landmarks:\n",
    "            if len(results.multi_hand_landmarks) == 2 and tangan == 'dua_tangan':\n",
    "                for hand_landmarks in results.multi_hand_landmarks:\n",
    "                  x_coords = [landmark.x for landmark in hand_landmarks.landmark]\n",
    "                  y_coords = [landmark.y for landmark in hand_landmarks.landmark]\n",
    "                  xmin, xmax = min(x_coords), max(x_coords)\n",
    "                  ymin, ymax = min(y_coords), max(y_coords)\n",
    "\n",
    "                  img_height, img_width, _ = img_rgb.shape\n",
    "                  mid_vertical_min = img_height * 0.33\n",
    "                  mid_vertical_max = img_height * 0.66\n",
    "\n",
    "                  ymin_img = ymin * img_height\n",
    "                  ymax_img = ymax * img_height\n",
    "\n",
    "                  # if mid_vertical_min < ymin_img < mid_vertical_max and mid_vertical_min < ymax_img < mid_vertical_max:\n",
    "                  for i in range(len(hand_landmarks.landmark)):\n",
    "                    x = hand_landmarks.landmark[i].x\n",
    "                    y = hand_landmarks.landmark[i].y\n",
    "\n",
    "                    x_.append(x)\n",
    "                    y_.append(y)\n",
    "\n",
    "                  for i in range(len(hand_landmarks.landmark)):\n",
    "\n",
    "                    x = hand_landmarks.landmark[i].x\n",
    "                    y = hand_landmarks.landmark[i].y\n",
    "                    data_aux.append(x - min(x_))\n",
    "                    data_aux.append(y - min(y_))\n",
    "\n",
    "                if data_aux:\n",
    "                  data_dua_tangan.append(data_aux)\n",
    "                  labels_dua_tangan.append(dir_)\n",
    "                else:\n",
    "                  print(f'Warning: Data tidak valid untuk {dir_}{img_count}')\n",
    "\n",
    "            elif len(results.multi_hand_landmarks) == 1 and tangan == 'dua_tangan':\n",
    "                print(f'dua tangan terdeteksi satu tangan pada data {dir_}{img_count}')\n",
    "\n",
    "            else:\n",
    "                for hand_landmarks in results.multi_hand_landmarks:\n",
    "                  x_coords = [landmark.x for landmark in hand_landmarks.landmark]\n",
    "                  y_coords = [landmark.y for landmark in hand_landmarks.landmark]\n",
    "                  xmin, xmax = min(x_coords), max(x_coords)\n",
    "                  ymin, ymax = min(y_coords), max(y_coords)\n",
    "\n",
    "                  img_height, img_width, _ = img_rgb.shape\n",
    "                  mid_vertical_min = img_height * 0.33\n",
    "                  mid_vertical_max = img_height * 0.66\n",
    "\n",
    "                  ymin_img = ymin * img_height\n",
    "                  ymax_img = ymax * img_height\n",
    "\n",
    "                  # if mid_vertical_min < ymin_img < mid_vertical_max and mid_vertical_min < ymax_img < mid_vertical_max:\n",
    "                  for i in range(len(hand_landmarks.landmark)):\n",
    "                    x = hand_landmarks.landmark[i].x\n",
    "                    y = hand_landmarks.landmark[i].y\n",
    "\n",
    "                    x_.append(x)\n",
    "                    y_.append(y)\n",
    "\n",
    "                  for i in range(len(hand_landmarks.landmark)):\n",
    "\n",
    "                    x = hand_landmarks.landmark[i].x\n",
    "                    y = hand_landmarks.landmark[i].y\n",
    "                    data_aux.append(x - min(x_))\n",
    "                    data_aux.append(y - min(y_))\n",
    "\n",
    "                if data_aux:\n",
    "                  data_satu_tangan.append(data_aux)\n",
    "                  labels_satu_tangan.append(dir_)\n",
    "                else:\n",
    "                  print(f'Warning: Data tidak valid untuk {dir_}{img_count}')\n",
    "\n",
    "        else:\n",
    "            print(f'tidak ada tangan terdeteksi pada data {dir_}{img_count}')\n",
    "\n",
    "#         plt.figure()\n",
    "#         plt.imshow(img_rgb)\n",
    "# plt.show()\n",
    "\n",
    "# Simpan data ke file pickle\n",
    "with open('data_satu_tangan.pickle', 'wb') as f:\n",
    "    pickle.dump({'data': data_satu_tangan, 'labels': labels_satu_tangan}, f)\n",
    "\n",
    "with open('data_dua_tangan.pickle', 'wb') as f:\n",
    "    pickle.dump({'data': data_dua_tangan, 'labels': labels_dua_tangan}, f)\n"
   ]
  },
  {
   "cell_type": "code",
   "execution_count": 6,
   "metadata": {},
   "outputs": [
    {
     "name": "stdout",
     "output_type": "stream",
     "text": [
      "dua tangan terdeteksi satu tangan pada data I282\n",
      "dua tangan terdeteksi satu tangan pada data I283\n",
      "dua tangan terdeteksi satu tangan pada data I284\n",
      "dua tangan terdeteksi satu tangan pada data I315\n",
      "dua tangan terdeteksi satu tangan pada data I325\n",
      "dua tangan terdeteksi satu tangan pada data I326\n",
      "dua tangan terdeteksi satu tangan pada data I327\n",
      "dua tangan terdeteksi satu tangan pada data I328\n",
      "dua tangan terdeteksi satu tangan pada data I332\n",
      "dua tangan terdeteksi satu tangan pada data I355\n",
      "dua tangan terdeteksi satu tangan pada data I356\n",
      "dua tangan terdeteksi satu tangan pada data I974\n",
      "dua tangan terdeteksi satu tangan pada data I975\n",
      "dua tangan terdeteksi satu tangan pada data I976\n",
      "dua tangan terdeteksi satu tangan pada data I977\n",
      "dua tangan terdeteksi satu tangan pada data I978\n",
      "dua tangan terdeteksi satu tangan pada data I980\n",
      "dua tangan terdeteksi satu tangan pada data I981\n",
      "dua tangan terdeteksi satu tangan pada data I982\n",
      "dua tangan terdeteksi satu tangan pada data I983\n",
      "dua tangan terdeteksi satu tangan pada data I984\n",
      "dua tangan terdeteksi satu tangan pada data I985\n",
      "dua tangan terdeteksi satu tangan pada data I986\n",
      "dua tangan terdeteksi satu tangan pada data I987\n",
      "dua tangan terdeteksi satu tangan pada data I988\n",
      "dua tangan terdeteksi satu tangan pada data I989\n",
      "dua tangan terdeteksi satu tangan pada data I991\n",
      "dua tangan terdeteksi satu tangan pada data I992\n",
      "dua tangan terdeteksi satu tangan pada data I993\n",
      "dua tangan terdeteksi satu tangan pada data I994\n",
      "dua tangan terdeteksi satu tangan pada data I995\n",
      "dua tangan terdeteksi satu tangan pada data I996\n",
      "dua tangan terdeteksi satu tangan pada data I997\n",
      "dua tangan terdeteksi satu tangan pada data I998\n",
      "dua tangan terdeteksi satu tangan pada data I999\n",
      "dua tangan terdeteksi satu tangan pada data I1000\n"
     ]
    }
   ],
   "source": [
    "import os\n",
    "import pickle\n",
    "import mediapipe as mp\n",
    "import cv2\n",
    "\n",
    "# Nama folder untuk label baru\n",
    "new_label = 'I'\n",
    "\n",
    "# Path folder data\n",
    "DATA_DIR = 'dataset'\n",
    "\n",
    "# Memuat data dan label yang ada dari file pickle\n",
    "with open('data_dua_tangan.pickle', 'rb') as f:\n",
    "    data_dict = pickle.load(f)\n",
    "    data_dua_tangan = data_dict['data']\n",
    "    labels_dua_tangan = data_dict['labels']\n",
    "\n",
    "# Menghapus data dan label dengan label 'I2'\n",
    "indices_to_remove = [i for i, label in enumerate(labels_dua_tangan) if label == 'I2']\n",
    "data_dua_tangan = [data for i, data in enumerate(data_dua_tangan) if i not in indices_to_remove]\n",
    "labels_dua_tangan = [label for i, label in enumerate(labels_dua_tangan) if i not in indices_to_remove]\n",
    "\n",
    "# Inisialisasi Mediapipe\n",
    "mp_hands = mp.solutions.hands\n",
    "hands = mp_hands.Hands(static_image_mode=True, min_detection_confidence=0.3)\n",
    "\n",
    "# Memproses data dari folder baru\n",
    "new_data = []\n",
    "new_labels = []\n",
    "\n",
    "img_count = 0\n",
    "for img_path in os.listdir(os.path.join(DATA_DIR, new_label)):\n",
    "    img_count += 1\n",
    "    data_aux = []\n",
    "    x_ = []\n",
    "    y_ = []\n",
    "\n",
    "    img = cv2.imread(os.path.join(DATA_DIR, new_label, img_path))\n",
    "    img_rgb = cv2.cvtColor(img, cv2.COLOR_BGR2RGB)\n",
    "    results = hands.process(img_rgb)\n",
    "\n",
    "    if results.multi_hand_landmarks:\n",
    "        if len(results.multi_hand_landmarks) == 2:\n",
    "            for hand_landmarks in results.multi_hand_landmarks:\n",
    "                x_coords = [landmark.x for landmark in hand_landmarks.landmark]\n",
    "                y_coords = [landmark.y for landmark in hand_landmarks.landmark]\n",
    "\n",
    "                for i in range(len(hand_landmarks.landmark)):\n",
    "                    x = hand_landmarks.landmark[i].x\n",
    "                    y = hand_landmarks.landmark[i].y\n",
    "                    x_.append(x)\n",
    "                    y_.append(y)\n",
    "\n",
    "                for i in range(len(hand_landmarks.landmark)):\n",
    "                    x = hand_landmarks.landmark[i].x\n",
    "                    y = hand_landmarks.landmark[i].y\n",
    "                    data_aux.append(x - min(x_))\n",
    "                    data_aux.append(y - min(y_))\n",
    "\n",
    "            if data_aux:\n",
    "                new_data.append(data_aux)\n",
    "                new_labels.append(new_label)\n",
    "            else:\n",
    "                print(f'Warning: Data tidak valid untuk {new_label}{img_count}')\n",
    "        else:\n",
    "            print(f'dua tangan terdeteksi satu tangan pada data {new_label}{img_count}')\n",
    "    else:\n",
    "        print(f'tidak ada tangan terdeteksi pada data {new_label}{img_count}')\n",
    "\n",
    "# Menggabungkan data dan label baru dengan yang lama\n",
    "data_dua_tangan.extend(new_data)\n",
    "labels_dua_tangan.extend(new_labels)\n",
    "\n",
    "# Menyimpan kembali data gabungan ke dalam file pickle\n",
    "with open('data_dua_tangan.pickle', 'wb') as f:\n",
    "    pickle.dump({'data': data_dua_tangan, 'labels': labels_dua_tangan}, f)\n"
   ]
  },
  {
   "cell_type": "code",
   "execution_count": 7,
   "metadata": {},
   "outputs": [
    {
     "name": "stdout",
     "output_type": "stream",
     "text": [
      "10723\n",
      "10723\n",
      "13384\n",
      "13384\n"
     ]
    }
   ],
   "source": [
    "data_dict = pickle.load(open('data_satu_tangan.pickle', 'rb'))\n",
    "data = data_dict['data']\n",
    "labels = data_dict['labels']\n",
    "\n",
    "data_dict1 = pickle.load(open('data_dua_tangan.pickle', 'rb'))\n",
    "data1 = data_dict1['data']\n",
    "labels1 = data_dict1['labels']\n",
    "\n",
    "print(len(data))\n",
    "print(len(labels))\n",
    "\n",
    "print(len(data1))\n",
    "print(len(labels1))"
   ]
  },
  {
   "cell_type": "code",
   "execution_count": 8,
   "metadata": {},
   "outputs": [
    {
     "name": "stdout",
     "output_type": "stream",
     "text": [
      "data inkonsisten berjumlah 0\n"
     ]
    }
   ],
   "source": [
    "count = 0\n",
    "for i in(range(len(data1))):\n",
    "  if len(data1[i]) != 84:\n",
    "    count += 1\n",
    "print(f'data inkonsisten berjumlah {count}')"
   ]
  },
  {
   "cell_type": "code",
   "execution_count": 6,
   "metadata": {},
   "outputs": [
    {
     "name": "stdout",
     "output_type": "stream",
     "text": [
      "data inkonsisten berjumlah 171\n"
     ]
    }
   ],
   "source": [
    "count = 0\n",
    "for i in(range(len(data))):\n",
    "  if len(data[i]) != 42:\n",
    "    count += 1\n",
    "print(f'data inkonsisten berjumlah {count}')"
   ]
  },
  {
   "cell_type": "code",
   "execution_count": 15,
   "metadata": {},
   "outputs": [
    {
     "name": "stdout",
     "output_type": "stream",
     "text": [
      "10552\n",
      "10552\n",
      "10552\n",
      "10552\n"
     ]
    }
   ],
   "source": [
    "import numpy as np\n",
    "filter_data = []\n",
    "filter_label = []\n",
    "for i in range(len(data)):\n",
    "  if len(data[i]) == 42:\n",
    "    filter_data.append(data[i])\n",
    "    filter_label.append(labels[i])\n",
    "    # print(labels1[i])\n",
    "    # print(f'data ke- {i} berhasil ditambahkan')\n",
    "\n",
    "print(len(filter_label))\n",
    "print(len(filter_data))\n",
    "\n",
    "data1 = np.asarray(filter_data)\n",
    "labels1 = np.asarray(filter_label)\n",
    "\n",
    "print(len(data1))\n",
    "print(len(labels1))"
   ]
  },
  {
   "cell_type": "markdown",
   "metadata": {},
   "source": [
    "## Jumlah Data Dua Tangan"
   ]
  },
  {
   "cell_type": "code",
   "execution_count": 9,
   "metadata": {},
   "outputs": [
    {
     "data": {
      "image/png": "[encoded data removed]",
      "text/plain": [
       "<Figure size 640x480 with 1 Axes>"
      ]
     },
     "metadata": {},
     "output_type": "display_data"
    }
   ],
   "source": [
    "import pandas as pd\n",
    "import matplotlib.pyplot as plt\n",
    "\n",
    "df = pd.DataFrame(data_dict1)\n",
    "\n",
    "# Menghitung jumlah data untuk setiap label\n",
    "label_counts = df['labels'].value_counts()\n",
    "\n",
    "# Membuat diagram batang\n",
    "fig, ax = plt.subplots()\n",
    "label_counts.plot(kind='bar', ax=ax)\n",
    "\n",
    "# Menambahkan label untuk setiap batang\n",
    "for i, count in enumerate(label_counts):\n",
    "    ax.annotate(str(count), xy=(i, count), ha='center', va='bottom')\n",
    "\n",
    "plt.xlabel('Labels')\n",
    "plt.ylabel('Jumlah Data')\n",
    "plt.title('Jumlah Data Sesuai Label')\n",
    "plt.show()\n"
   ]
  },
  {
   "cell_type": "markdown",
   "metadata": {},
   "source": [
    "## Jumlah Data Satu Tangan"
   ]
  },
  {
   "cell_type": "code",
   "execution_count": 18,
   "metadata": {},
   "outputs": [
    {
     "data": {
      "image/png": "[encoded data removed]",
      "text/plain": [
       "<Figure size 640x480 with 1 Axes>"
      ]
     },
     "metadata": {},
     "output_type": "display_data"
    }
   ],
   "source": [
    "# Ubah data1 dan labels1 ke DataFrame\n",
    "df = pd.DataFrame({'data': list(data1), 'label': labels1})\n",
    "\n",
    "# Menghitung jumlah data untuk setiap label\n",
    "label_counts = df['label'].value_counts()\n",
    "\n",
    "# Membuat diagram batang\n",
    "fig, ax = plt.subplots()\n",
    "label_counts.plot(kind='bar', ax=ax)\n",
    "\n",
    "# Menambahkan label untuk setiap batang\n",
    "for i, count in enumerate(label_counts):\n",
    "    ax.annotate(str(count), xy=(i, count), ha='center', va='bottom')\n",
    "\n",
    "plt.xlabel('Labels')\n",
    "plt.ylabel('Jumlah Data')\n",
    "plt.title('Jumlah Data Sesuai Label')\n",
    "plt.show()"
   ]
  }
 ],
 "metadata": {
  "kernelspec": {
   "display_name": "Python 3",
   "language": "python",
   "name": "python3"
  },
  "language_info": {
   "codemirror_mode": {
    "name": "ipython",
    "version": 3
   },
   "file_extension": ".py",
   "mimetype": "text/x-python",
   "name": "python",
   "nbconvert_exporter": "python",
   "pygments_lexer": "ipython3",
   "version": "3.10.6"
  }
 },
 "nbformat": 4,
 "nbformat_minor": 2
}
